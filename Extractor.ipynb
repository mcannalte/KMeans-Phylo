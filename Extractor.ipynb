{
 "cells": [
  {
   "cell_type": "code",
   "execution_count": 2,
   "metadata": {},
   "outputs": [],
   "source": [
    "import sys\n",
    "import os\n",
    "from tqdm import tqdm\n",
    "import numpy as np"
   ]
  },
  {
   "cell_type": "code",
   "execution_count": 9,
   "metadata": {},
   "outputs": [
    {
     "name": "stdout",
     "output_type": "stream",
     "text": [
      "done with mini/D._melanogaster--dm6.mini\n",
      "done with mini/Golden_snub-nosed_monkey--rhiRox1.mini\n",
      "done with mini/Turkey--melGal5.mini\n",
      "done with mini/Fugu--fr3.mini\n",
      "done with mini/Atlantic_cod--gadMor1.mini\n",
      "done with mini/Bushbaby--otoGar3.mini\n",
      "done with mini/Pig--susScr11.mini\n",
      "done with mini/Armadillo--dasNov3.mini\n",
      "done with mini/Baboon--papAnu4.mini\n",
      "done with mini/Cow--bosTau9.mini\n",
      "done with mini/Ferret--musFur1.mini\n",
      "done with mini/Chinese_hamster--criGriChoV2.mini\n",
      "done with mini/Bison--bisBis1.mini\n",
      "done with mini/Dolphin--turTru2.mini\n",
      "done with mini/Human--hg38.mini\n",
      "done with mini/Alpaca--vicPac2.mini\n",
      "done with mini/Elephant--loxAfr3.mini\n",
      "done with mini/Cat--felCat9.mini\n",
      "done with mini/Brown_kiwi--aptMan1.mini\n",
      "done with mini/Gibbon--nomLeu3.mini\n",
      "done with mini/Medaka--oryLat2.mini\n",
      "done with mini/Elephant_shark--calMil1.mini\n",
      "done with mini/Bonobo--panPan2.mini\n",
      "done with mini/Chinese_pangolin--manPen1.mini\n",
      "done with mini/Coelacanth--latCha1.mini\n",
      "done with mini/Chimpanzee--panTro6.mini\n",
      "done with mini/Golden_eagle--aquChr2.mini\n",
      "done with mini/Garter_snake--thaSir1.mini\n",
      "done with mini/A._gambiae--anoGam3.mini\n",
      "done with mini/Budgerigar--melUnd1.mini\n",
      "done with mini/Horse--equCab3.mini\n",
      "done with mini/Green_monkey--chlSab2.mini\n",
      "done with mini/Dog--canFam3.mini\n",
      "done with mini/Ciona_intestinalis--ci3.mini\n",
      "done with mini/Crab-eating_macaque--macFas5.mini\n",
      "done with mini/Chicken--galGal6.mini\n",
      "done with mini/Lamprey--petMar3.mini\n"
     ]
    }
   ],
   "source": [
    "for f in os.listdir('cleaned'):\n",
    "    fpath = os.path.join('cleaned', f)\n",
    "    if os.path.isfile(fpath) and fpath[-2:] == 'fa':\n",
    "\n",
    "        with open(fpath) as file:\n",
    "            first_line = file.readline()\n",
    "            \n",
    "            mini_name = 'mini/' + fpath[len('cleaned/'):-len('.fa')] + '.mini'\n",
    "            with open(mini_name, 'w+') as mini_file:                     \n",
    "                \n",
    "                buff = []\n",
    "                size = 50000\n",
    "                for line in file:\n",
    "                    if len(buff) >= size:\n",
    "                        break\n",
    "                    for char in line:\n",
    "                        if char == 'a' or char == 'A':\n",
    "                            buff += [1]\n",
    "                        elif char == 'c' or char == 'C':\n",
    "                            buff += [2]\n",
    "                        elif char == 't' or char == 'T':\n",
    "                            buff += [3]\n",
    "                        elif char == 'g' or char == 'G':\n",
    "                            buff += [4]\n",
    "                            \n",
    "                mini_file.write(\",\".join(map(str,buff[:size])))\n",
    "                print(f'done with {mini_name}')\n",
    "            \n",
    "#             compressed_fname = fpath[:-3] + '.dat'\n",
    "#             with open(compressed_fname, 'w+') as compressed_file:                     \n",
    "#                 for line in file:\n",
    "#                     batch = \"\"\n",
    "#                     for char in line:\n",
    "#                         if char == 'a' or char == 'A':\n",
    "#                             batch += str(1)\n",
    "#                         elif char == 'c' or char == 'C':\n",
    "#                             batch += str(2)\n",
    "#                         elif char == 't' or char == 'T':\n",
    "#                             batch += str(3)\n",
    "#                         elif char == 'g' or char == 'G':\n",
    "#                             batch += str(4)\n",
    "#                     compressed_file.write(batch)\n",
    "#                 print(f'done with {compressed_fname}')"
   ]
  },
  {
   "cell_type": "code",
   "execution_count": 32,
   "metadata": {},
   "outputs": [
    {
     "data": {
      "text/plain": [
       "array([], dtype=int8)"
      ]
     },
     "execution_count": 32,
     "metadata": {},
     "output_type": "execute_result"
    }
   ],
   "source": [
    "bp"
   ]
  }
 ],
 "metadata": {
  "kernelspec": {
   "display_name": "Python 3",
   "language": "python",
   "name": "python3"
  },
  "language_info": {
   "codemirror_mode": {
    "name": "ipython",
    "version": 3
   },
   "file_extension": ".py",
   "mimetype": "text/x-python",
   "name": "python",
   "nbconvert_exporter": "python",
   "pygments_lexer": "ipython3",
   "version": "3.7.3"
  }
 },
 "nbformat": 4,
 "nbformat_minor": 2
}
